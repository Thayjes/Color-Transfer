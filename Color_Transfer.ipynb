{
 "cells": [
  {
   "cell_type": "code",
   "execution_count": 1,
   "metadata": {
    "collapsed": false
   },
   "outputs": [
    {
     "ename": "ImportError",
     "evalue": "No module named color",
     "output_type": "error",
     "traceback": [
      "\u001b[1;31m---------------------------------------------------------------------------\u001b[0m",
      "\u001b[1;31mImportError\u001b[0m                               Traceback (most recent call last)",
      "\u001b[1;32m<ipython-input-1-7bd25d206c0c>\u001b[0m in \u001b[0;36m<module>\u001b[1;34m()\u001b[0m\n\u001b[0;32m      8\u001b[0m \u001b[1;32mimport\u001b[0m \u001b[0mcv2\u001b[0m\u001b[1;33m\u001b[0m\u001b[0m\n\u001b[0;32m      9\u001b[0m \u001b[1;32mimport\u001b[0m \u001b[0margparse\u001b[0m\u001b[1;33m\u001b[0m\u001b[0m\n\u001b[1;32m---> 10\u001b[1;33m \u001b[1;32mfrom\u001b[0m \u001b[0mcolor\u001b[0m \u001b[1;32mimport\u001b[0m \u001b[0mcolor_transfer\u001b[0m\u001b[1;33m\u001b[0m\u001b[0m\n\u001b[0m\u001b[0;32m     11\u001b[0m \u001b[1;32mimport\u001b[0m \u001b[0mimutils\u001b[0m\u001b[1;33m\u001b[0m\u001b[0m\n\u001b[0;32m     12\u001b[0m \u001b[1;32mimport\u001b[0m \u001b[0mnumpy\u001b[0m \u001b[1;32mas\u001b[0m \u001b[0mnp\u001b[0m\u001b[1;33m\u001b[0m\u001b[0m\n",
      "\u001b[1;31mImportError\u001b[0m: No module named color"
     ]
    }
   ],
   "source": [
    "# -*- coding: utf-8 -*-\n",
    "\"\"\"\n",
    "Created on Wed May 10 10:12:49 2017\n",
    "\n",
    "@author: tsrivas\n",
    "\"\"\"\n",
    "\n",
    "import cv2\n",
    "import argparse\n",
    "from color import color_transfer\n",
    "import imutils\n",
    "import numpy as np\n",
    "# create an argument parser for reading the source and target images\n",
    "ap=argparse.ArgumentParser()\n",
    "ap.add_argument(\"-s\",\"--source\",help='Path to the source image')\n",
    "ap.add_argument(\"-t\",\"--target\",help='Path to the target image')\n",
    "\n",
    "args=vars(ap.parse_args())\n",
    "\n",
    "# load the source and target images from disk\n",
    "source=cv2.imread('C:\\Users\\tsrivas\\Documents\\PythonScripts\\images\\colortransfer\\ocean_sunset')\n",
    "target=cv2.imread('C:\\Users\\tsrivas\\Documents\\PythonScripts\\images\\colortransfer\\ocean_day')\n",
    "\n",
    "source=imutils.resize(source,height=400)\n",
    "target=imutils.resize(target,height=400)\n",
    "# Display the source and target images\n",
    "#cv2.imshow(\"Source Image\",source)\n",
    "#cv2.imshow(\"Target Image\",target)\n",
    "\n",
    "# Apply the color transfer function to obtain the transferred iamge\n",
    "transfer = color_transfer(source,target)\n",
    "image=np.hstack( (source,target,transfer) )\n",
    "# Display the transfer function\n",
    "cv2.imshow(\"Transferred Image\",image)\n",
    "cv2.waitKey(0)\n",
    "cv2.destroyAllWindows()\n",
    "\n",
    "\n"
   ]
  }
 ],
 "metadata": {
  "kernelspec": {
   "display_name": "Python 2",
   "language": "python",
   "name": "python2"
  },
  "language_info": {
   "codemirror_mode": {
    "name": "ipython",
    "version": 2
   },
   "file_extension": ".py",
   "mimetype": "text/x-python",
   "name": "python",
   "nbconvert_exporter": "python",
   "pygments_lexer": "ipython2",
   "version": "2.7.13"
  }
 },
 "nbformat": 4,
 "nbformat_minor": 0
}
